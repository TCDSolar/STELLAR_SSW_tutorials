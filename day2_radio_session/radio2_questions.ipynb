{
 "cells": [
  {
   "cell_type": "markdown",
   "metadata": {},
   "source": [
    "# Radio Tutorial 2: Density models and radio burst speeds\n",
    "\n",
    "### The goal for this tutorial"
   ]
  },
  {
   "cell_type": "markdown",
   "metadata": {},
   "source": [
    "The goal will be to plot a variety of 1 dimensional electron density models of the solar atmosphere, both theoretical and empirical. The empirical models that we will use (Newkirk and Saito) are often used for estimates of radio burst altitude and speed in the corona. We'll be plotting electrons density as a function of height $n(r)$.\n",
    "\n",
    "N.B. When I use the term height, altitude or distance I mean heliocnetric distance i.e., 1 R$_{\\odot}$ is the solar surface."
   ]
  },
  {
   "cell_type": "markdown",
   "metadata": {},
   "source": [
    "### First let's start with the hydrostatic plane parallel model"
   ]
  },
  {
   "cell_type": "markdown",
   "metadata": {},
   "source": [
    "Start with plotting the following equation from 1-10 solar radii\n",
    "\\begin{equation}\n",
    "n(r) = n_0\\mathrm{exp}\\bigg(\\frac{-r}{H}\\bigg)\n",
    "\\end{equation}\n",
    "\n",
    "where $n_0$ is the density at the base of the corona and $r$ is the distance into the solar atmosphere. $H$ is known as the scale height. And is given by\n",
    "\n",
    "\\begin{equation}\n",
    "H = \\frac{m_p g_{\\odot}}{k_B T}\n",
    "\\end{equation}\n",
    "\n",
    "where $k_B$ is Boltzmann's constant, $T$ is the temperature, $m_p$ is the proton mass, and $g_{\\odot}$ is solar gravity. What is the significance of the scale height?"
   ]
  },
  {
   "cell_type": "code",
   "execution_count": null,
   "metadata": {},
   "outputs": [],
   "source": [
    "import numpy as np\n",
    "import matplotlib.pyplot as plt"
   ]
  },
  {
   "cell_type": "markdown",
   "metadata": {},
   "source": [
    "### First define your constants here"
   ]
  },
  {
   "cell_type": "code",
   "execution_count": 5,
   "metadata": {},
   "outputs": [],
   "source": [
    "n0 = None       # Electron density at 1 Rsun (cm^-3)\n",
    "T = None        # MK\n",
    "kb = None       # Boltzman constant J/K\n",
    "mp = None       # Proton mass kg\n",
    "Msun = None     # Solar mass kg\n",
    "rsun = None     # Solar radius m\n",
    "G = None        # Universal gravitational constant (m3 kg-1 s-2)\n",
    "gsun = None     # Solar gravity (m/s/s)"
   ]
  },
  {
   "cell_type": "markdown",
   "metadata": {},
   "source": [
    "### First build a 1D distance grid"
   ]
  },
  {
   "cell_type": "code",
   "execution_count": 7,
   "metadata": {},
   "outputs": [],
   "source": [
    "# Build a 1D array of distance values in units of Rsun.\n",
    "# Choose a reasonable resolution e.g., <0.1 Rsun. "
   ]
  },
  {
   "cell_type": "markdown",
   "metadata": {},
   "source": [
    "### Let's look at a plane-parallel hydrostatic model"
   ]
  },
  {
   "cell_type": "code",
   "execution_count": 8,
   "metadata": {},
   "outputs": [],
   "source": [
    "# Start with defining the scale height.\n",
    "# Print its value in Mm. Does this make sense? What is the meaning of this value?"
   ]
  },
  {
   "cell_type": "code",
   "execution_count": 10,
   "metadata": {},
   "outputs": [],
   "source": [
    "# Now use your distance grid and scale height to get the density values, using Equation 1 above. "
   ]
  },
  {
   "cell_type": "code",
   "execution_count": 12,
   "metadata": {},
   "outputs": [
    {
     "data": {
      "text/plain": [
       "\"\\nfig, ax = plt.subplots()\\nax.plot(radius, npp)\\nax.set_xlabel('Heliocentric Distance (R$_{\\\\odot}$)')\\nax.set_ylabel('Electron density (cm$^{-3})$')\\nplt.show()\\n\""
      ]
     },
     "execution_count": 12,
     "metadata": {},
     "output_type": "execute_result"
    }
   ],
   "source": [
    "# And plot the result...\n",
    "'''\n",
    "fig, ax = plt.subplots()\n",
    "ax.plot(radius, npp)\n",
    "ax.set_xlabel('Heliocentric Distance (R$_{\\odot}$)')\n",
    "ax.set_ylabel('Electron density (cm$^{-3})$')\n",
    "plt.show()\n",
    "'''"
   ]
  },
  {
   "cell_type": "markdown",
   "metadata": {},
   "source": [
    "### Increasing the temperature of the atmosphere"
   ]
  },
  {
   "cell_type": "markdown",
   "metadata": {},
   "source": [
    "Now let's see what happens when we increase the temperature of the atmosphere. Make a scale height for an atmosphere of 1 MK, 5 MK, and 10 MK. What would you expect to happen? "
   ]
  },
  {
   "cell_type": "code",
   "execution_count": 23,
   "metadata": {},
   "outputs": [
    {
     "data": {
      "text/plain": [
       "\"\\nplothydrostat(radius, T1, label='1 MK')\\nplothydrostat(radius, T2, label='5 MK')\\nax = plothydrostat(radius, T3, label='10 MK')\\nax.set_yscale('log')\\nax.set_xlabel('Heliocentric Distance (R$_{\\\\odot}$)')\\nax.set_ylabel('Electron density (cm$^{-3})$')\\nplt.legend()\\nplt.show()\\n\""
      ]
     },
     "execution_count": 23,
     "metadata": {},
     "output_type": "execute_result"
    },
    {
     "data": {
      "image/png": "[encoded data removed]",
      "text/plain": [
       "<Figure size 432x288 with 1 Axes>"
      ]
     },
     "metadata": {
      "needs_background": "light"
     },
     "output_type": "display_data"
    }
   ],
   "source": [
    "# The most convenient way to do this is to build a function that takes your distance grid \n",
    "# and temperature as input plots the density model. Fill in the function template below.\n",
    "\n",
    "\n",
    "fig, ax = plt.subplots()\n",
    "def plothydrostat(radius, temp, label=None):\n",
    "    \n",
    "    # Inside here calulate scale height H\n",
    "    # Then get the density and plot the result\n",
    "    \n",
    "    #ax.plot(radius, n, label=label)\n",
    "    \n",
    "    return #ax\n",
    "\n",
    "'''\n",
    "plothydrostat(radius, T1, label='1 MK')\n",
    "plothydrostat(radius, T2, label='5 MK')\n",
    "ax = plothydrostat(radius, T3, label='10 MK')\n",
    "ax.set_yscale('log')\n",
    "ax.set_xlabel('Heliocentric Distance (R$_{\\odot}$)')\n",
    "ax.set_ylabel('Electron density (cm$^{-3})$')\n",
    "plt.legend()\n",
    "plt.show()\n",
    "'''"
   ]
  },
  {
   "cell_type": "markdown",
   "metadata": {},
   "source": [
    "### Now let's plot the spherically symmetric solution\n"
   ]
  },
  {
   "cell_type": "markdown",
   "metadata": {},
   "source": [
    "Now we'll do something slightly more realistic. Gravity in the solar atmosphere is of course not a constant, but decreases with increasing altitude. The hydrostatic model that's accounts for this is similar:\n",
    "\n",
    "\\begin{equation}\n",
    "n = n_0\\mathrm{exp}\\bigg( \\frac{1}{H}\\bigg\\{\\frac{1}{r}-1\\bigg\\} \\bigg)\n",
    "\\end{equation}\n",
    "\n",
    "where $H$ takes on the slightly different form\n",
    "\n",
    "\\begin{equation}\n",
    "H = \\frac{2 k_B T R_{\\odot}^2}{G M_{\\odot}m_p} \n",
    "\\end{equation}"
   ]
  },
  {
   "cell_type": "code",
   "execution_count": 22,
   "metadata": {},
   "outputs": [
    {
     "data": {
      "text/plain": [
       "\"\\nplt.plot(radius, nss, label='Plane parallel')\\nplt.plot(radius, npp, label='Spherically symmetric')\\nplt.yscale('log')\\nplt.ylim(1e4,1e10)\\nplt.xlabel('Heliocentric Distance (R$_{\\\\odot}$)')\\nplt.ylabel('Electron density (cm$^{-3})$')\\nplt.legend()\\nplt.show()\\n\""
      ]
     },
     "execution_count": 22,
     "metadata": {},
     "output_type": "execute_result"
    }
   ],
   "source": [
    "# Define these equations here. Take care with your units, units of Rsun or in meters etc.\n",
    "\n",
    "\n",
    "# the plot up the result, and also compare to the plane parallel solution you calculated previously.\n",
    "'''\n",
    "plt.plot(radius, nss, label='Plane parallel')\n",
    "plt.plot(radius, npp, label='Spherically symmetric')\n",
    "plt.yscale('log')\n",
    "plt.ylim(1e4,1e10)\n",
    "plt.xlabel('Heliocentric Distance (R$_{\\odot}$)')\n",
    "plt.ylabel('Electron density (cm$^{-3})$')\n",
    "plt.legend()\n",
    "plt.show()\n",
    "'''"
   ]
  },
  {
   "cell_type": "markdown",
   "metadata": {},
   "source": [
    "### What does this look like in terms of plasma frequency?"
   ]
  },
  {
   "cell_type": "code",
   "execution_count": 24,
   "metadata": {},
   "outputs": [
    {
     "data": {
      "text/plain": [
       "\"\\nplt.plot(radius, fplasma_ss)\\nplt.xlabel('Heliocentric Distance (R$_{\\\\odot}$)')\\nplt.ylabel('Plasma Frequency (MHz)')\\nplt.yscale('log')\\nplt.ylim(1,300)\\nplt.show()\\n\""
      ]
     },
     "execution_count": 24,
     "metadata": {},
     "output_type": "execute_result"
    }
   ],
   "source": [
    "# Use the plasma frequency formula from the lectures to convert from density to frequency in MHz\n",
    "# Then plot as a function of radius.\n",
    "\n",
    "# What is the radius at which you expect 100 MHz?\n",
    "\n",
    "'''\n",
    "plt.plot(radius, fplasma_ss)\n",
    "plt.xlabel('Heliocentric Distance (R$_{\\odot}$)')\n",
    "plt.ylabel('Plasma Frequency (MHz)')\n",
    "plt.yscale('log')\n",
    "plt.ylim(1,300)\n",
    "plt.show()\n",
    "'''\n"
   ]
  },
  {
   "cell_type": "markdown",
   "metadata": {
    "collapsed": true
   },
   "source": [
    "### Now let's plot some empirical density models"
   ]
  },
  {
   "cell_type": "markdown",
   "metadata": {},
   "source": [
    "Radio bursts in solar physics are most often analysed with 1D empircal density models. There are many: Newkirk, Saito, Leblanc, Baumbach Allen, Mann. This list goes on. Each are suitable to different parts of the corona. For example, the Newkirk and Saito can be used for the low corona, in the early stages of eruption typically below a few solar radii (although the Newkirk model is known to be slightly higher than epxected densities). The Leblanc and Mann models is for distances further into the heliosphere.\n",
    "\n",
    "Here we'll take a look at the Newkirk and Saito models. Firtly the newkirk model\n",
    "\n",
    "\\begin{equation}\n",
    "n(r) = 4.2\\times10^4 \\times 10^{4.32/r}\n",
    "\\end{equation}\n",
    "\n",
    "where $r$ is units of solar radii. Plot this model along side the spherically symmetric model from above and compare them."
   ]
  },
  {
   "cell_type": "code",
   "execution_count": 19,
   "metadata": {},
   "outputs": [],
   "source": [
    "# Plot the the Newkirk and spherically symmetric model\n",
    "  \n"
   ]
  },
  {
   "cell_type": "markdown",
   "metadata": {},
   "source": [
    "Now plot the  Saito model using the following formula\n",
    "\n",
    "\\begin{equation}\n",
    "n(r) = c_1r^{-d_1} + c_2r^{-d_2}  \n",
    "\\end{equation}\n",
    "\n",
    "where $r$ is units of solar radii and $c1=1.38\\times10^6$, $c2=1.68\\times10^8$, $d1=2.14$, $d2=6.13$.\n"
   ]
  },
  {
   "cell_type": "code",
   "execution_count": 20,
   "metadata": {},
   "outputs": [],
   "source": [
    "# Use this formula to plot the Saito, overplotting Newkirk, and the hydrostatic model. "
   ]
  },
  {
   "cell_type": "markdown",
   "metadata": {},
   "source": [
    "### Now let's get the speed of the shock that caused the type II"
   ]
  },
  {
   "cell_type": "code",
   "execution_count": 14,
   "metadata": {},
   "outputs": [],
   "source": [
    "# Firstly write a function of frequency to density\n",
    "\n",
    "def freq2dens(freq):\n",
    "    ne = None\n",
    "    return ne # cm^-3"
   ]
  },
  {
   "cell_type": "code",
   "execution_count": 150,
   "metadata": {},
   "outputs": [],
   "source": [
    "# Read in the frequency time points from Pearse's tutorial.\n",
    "\n",
    "#freq = np.array([150e6, 100e6, 40e6, 30e6, 20e6])\n",
    "#tsec = np.array([0, 120, 200, 360, 520])\n",
    "\n",
    "# Convert the frequencies to densities.\n",
    "# density = freq2dens(freq)"
   ]
  },
  {
   "cell_type": "code",
   "execution_count": 151,
   "metadata": {},
   "outputs": [],
   "source": [
    "# Now use one of the density models to map density to radius.\n",
    "# You can rearrange the Newkirk model to get the density directly. \n",
    "# However, with a polynomial like Saito, the most convient would \n",
    "# be to interpolate between density and radius\n",
    "# Hint. Use numpy.interp.\n",
    "\n",
    "# The results should be an array of heliocentric distances."
   ]
  },
  {
   "cell_type": "code",
   "execution_count": 21,
   "metadata": {},
   "outputs": [],
   "source": [
    "# Plot the results of radii vs time and fit a line to the data points\n",
    "# Use scipy.stats.linregress"
   ]
  },
  {
   "cell_type": "markdown",
   "metadata": {},
   "source": [
    "### Now estimate the speed using a Saito model."
   ]
  },
  {
   "cell_type": "markdown",
   "metadata": {},
   "source": [
    "Follow the same procedure for the Saito model. Compare the distance values that you get with Saito. Compare the the speed given by the Newkirk model and Saito. Which one would you trust more?"
   ]
  },
  {
   "cell_type": "code",
   "execution_count": null,
   "metadata": {},
   "outputs": [],
   "source": []
  }
 ],
 "metadata": {
  "kernelspec": {
   "display_name": "Python 3",
   "language": "python",
   "name": "python3"
  },
  "language_info": {
   "codemirror_mode": {
    "name": "ipython",
    "version": 3
   },
   "file_extension": ".py",
   "mimetype": "text/x-python",
   "name": "python",
   "nbconvert_exporter": "python",
   "pygments_lexer": "ipython3",
   "version": "3.9.5"
  }
 },
 "nbformat": 4,
 "nbformat_minor": 2
}
