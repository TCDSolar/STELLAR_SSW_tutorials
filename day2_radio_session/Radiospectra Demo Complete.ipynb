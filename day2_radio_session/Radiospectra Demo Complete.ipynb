{
 "cells": [
  {
   "cell_type": "markdown",
   "id": "03efa0b0",
   "metadata": {},
   "source": [
    "# Radiospecta\n",
    "\n",
    "* Sunpy provisionally affiliated package.\n",
    "* Provides `Fido` clients for a number of space and ground based observatories or observatory networks\n",
    "  * RSTN, EOVSA, WIND/WAVES, STEREO WAVES, Parker Solar Probe/RFS, CALLISTO\n",
    "* Provides a `Spectrogram` object or container like `TimeSeries` or `Map` but for dynamic spectra or spectrograms\n",
    "* Docs https://docs.sunpy.org/projects/radiospectra/en/latest/\n",
    "* Github https://github.com/sunpy/radiospectra\n",
    "\n",
    "### Today will cover\n",
    "1. Search and download data `Fido`\n",
    "2. Loading data into spectrogram container `Spectrogram`\n",
    "3. Plotting individual spectra\n",
    "4. Loading custom data into a Spectrogram\n",
    "5. Make a combined plot from 1GhZ to 1kHz"
   ]
  },
  {
   "cell_type": "markdown",
   "id": "aae54954",
   "metadata": {},
   "source": [
    "## Imports"
   ]
  },
  {
   "cell_type": "code",
   "execution_count": null,
   "id": "ef196052",
   "metadata": {},
   "outputs": [],
   "source": [
    "from datetime import datetime\n",
    "\n",
    "import astropy.units as u\n",
    "import numpy as np\n",
    "\n",
    "from astropy.time import Time\n",
    "from astropy.io import fits\n",
    "from matplotlib import pyplot as plt\n",
    "from matplotlib.colors import LogNorm\n",
    "\n",
    "from sunpy.net import Fido, attrs as a\n",
    "\n",
    "from radiospectra import net #let Fido know about the radio clients\n",
    "from radiospectra.spectrogram2 import Spectrogram # in the process of updating old spectrogram"
   ]
  },
  {
   "cell_type": "markdown",
   "id": "19543d06",
   "metadata": {},
   "source": [
    "# What can be searched for?"
   ]
  },
  {
   "cell_type": "code",
   "execution_count": null,
   "id": "f1810b30",
   "metadata": {},
   "outputs": [],
   "source": [
    "Fido"
   ]
  },
  {
   "cell_type": "code",
   "execution_count": null,
   "id": "a9020a05",
   "metadata": {},
   "outputs": [],
   "source": [
    "a.Instrument.waves   #try .waves .swave .rstn .ecallisto"
   ]
  },
  {
   "cell_type": "markdown",
   "id": "4375a097",
   "metadata": {},
   "source": [
    "# Lets look for a lot of radio data from 2017-09-02 15:00 - 18:00\n",
    "* Use `Fido` like yesterday but specifiy different instruments\n",
    "* `|` can be used as `or` so instrument `a or b` is `a | b`\n",
    "* Search for data from WIND/WAVES, RSTN, CALLISTO, and SWAVES\n",
    "* Small bug the name of the client and attr for Callisto don't match `CALLISTO` verses `ecallisto`"
   ]
  },
  {
   "cell_type": "code",
   "execution_count": null,
   "id": "26006456",
   "metadata": {},
   "outputs": [],
   "source": [
    "query = Fido.search(a.Time('2017-09-02T15:00', '2017-09-02T18:00'), \n",
    "                    a.Instrument.waves | a.Instrument.rstn | a.Instrument.ecallisto | a.Instrument.swaves)"
   ]
  },
  {
   "cell_type": "markdown",
   "id": "b127bbbe",
   "metadata": {},
   "source": [
    "Print the results and see what was found"
   ]
  },
  {
   "cell_type": "code",
   "execution_count": null,
   "id": "8a262e72",
   "metadata": {},
   "outputs": [],
   "source": [
    "query"
   ]
  },
  {
   "cell_type": "markdown",
   "id": "54f2cb66",
   "metadata": {},
   "source": [
    "# Many results let try RSTN\n",
    "\n",
    "* First download the the data\n",
    "* Same as yesterday can just pass the query to `Fido.fetch`"
   ]
  },
  {
   "cell_type": "code",
   "execution_count": null,
   "id": "1667ec90",
   "metadata": {},
   "outputs": [],
   "source": [
    "rstn_files = Fido.fetch(query['rstn'])\n",
    "\n",
    "# using index\n",
    "# rstn_files = Fido.fetch(query[1])"
   ]
  },
  {
   "cell_type": "markdown",
   "id": "a160fee3",
   "metadata": {},
   "source": [
    "The `Fido.fetch` call basially returns a lis of filepaths e.g"
   ]
  },
  {
   "cell_type": "code",
   "execution_count": null,
   "id": "791ac925",
   "metadata": {},
   "outputs": [],
   "source": [
    "rstn_files"
   ]
  },
  {
   "cell_type": "markdown",
   "id": "a8c481ca",
   "metadata": {},
   "source": [
    "## Load into spectrograms \n",
    "\n",
    "* Very similar to `Map` and `TimeSeries` the `Spectrogram` can take a list of:\n",
    "   * data header pairs\n",
    "   * filepaths\n",
    "   * urls\n",
    "   * or a combinatino of the above\n",
    "* Since fido returns more or less a list of file paths we can just pass this directly to `Spectrogram`"
   ]
  },
  {
   "cell_type": "code",
   "execution_count": null,
   "id": "1e37b015",
   "metadata": {},
   "outputs": [],
   "source": [
    "rstn_spec = Spectrogram(sorted(rstn_files))"
   ]
  },
  {
   "cell_type": "markdown",
   "id": "cbb015c1",
   "metadata": {},
   "source": [
    "Since we gave it a list of filepaths should get back a list of spectrograms"
   ]
  },
  {
   "cell_type": "code",
   "execution_count": null,
   "id": "a6595fa3",
   "metadata": {},
   "outputs": [],
   "source": [
    "type(rstn_spec), len(rstn_spec)"
   ]
  },
  {
   "cell_type": "markdown",
   "id": "2520e578",
   "metadata": {},
   "source": [
    "Finnally spectrogram hava short repr or text representation"
   ]
  },
  {
   "cell_type": "code",
   "execution_count": null,
   "id": "91a37810",
   "metadata": {},
   "outputs": [],
   "source": [
    "rstn_spec[0]"
   ]
  },
  {
   "cell_type": "markdown",
   "id": "408b1324",
   "metadata": {},
   "source": [
    "Once the data is loaded into a spectrogram it can be easily plotted using the `plot` method and the plots\n",
    "can be adjusted like a normal matplotlib plt "
   ]
  },
  {
   "cell_type": "code",
   "execution_count": null,
   "id": "d3ed4fd2",
   "metadata": {},
   "outputs": [],
   "source": [
    "rstn_spec[0].plot()"
   ]
  },
  {
   "cell_type": "code",
   "execution_count": null,
   "id": "545f2086",
   "metadata": {},
   "outputs": [],
   "source": [
    "rstn_spec[1].plot()"
   ]
  },
  {
   "cell_type": "markdown",
   "id": "1272bac6",
   "metadata": {},
   "source": [
    "There isn't an obvious radio busrt in the RSTN data so move on to WAVES\n",
    "\n",
    "## Now do the same steps but for waves\n",
    "* Remeber you can access the waves part of the query using `query['waves']`"
   ]
  },
  {
   "cell_type": "markdown",
   "id": "f29fbafd",
   "metadata": {},
   "source": [
    "Download WAVES"
   ]
  },
  {
   "cell_type": "code",
   "execution_count": null,
   "id": "28e478d8",
   "metadata": {},
   "outputs": [],
   "source": [
    "# Code to download the waves do here\n",
    "\n",
    "waves_files = Fido.fetch(query['waves'])"
   ]
  },
  {
   "cell_type": "markdown",
   "id": "c78bca35",
   "metadata": {},
   "source": [
    "Load into spectrogram"
   ]
  },
  {
   "cell_type": "code",
   "execution_count": null,
   "id": "bc9f54d8",
   "metadata": {},
   "outputs": [],
   "source": [
    "# Load\n",
    "waves_spec = Spectrogram(sorted(waves_files))"
   ]
  },
  {
   "cell_type": "markdown",
   "id": "2b48ae01",
   "metadata": {},
   "source": [
    "What is the type and size of the result"
   ]
  },
  {
   "cell_type": "code",
   "execution_count": null,
   "id": "afb91216",
   "metadata": {},
   "outputs": [],
   "source": [
    "# Check the type and length here\n",
    "type(waves_spec), len(waves_spec)"
   ]
  },
  {
   "cell_type": "markdown",
   "id": "d413c51f",
   "metadata": {},
   "source": [
    "Print a string reprentation a WAVES spectrogmram"
   ]
  },
  {
   "cell_type": "code",
   "execution_count": null,
   "id": "a2dd5cf8",
   "metadata": {},
   "outputs": [],
   "source": [
    "waves_spec[0]"
   ]
  },
  {
   "cell_type": "markdown",
   "id": "f429a9e5",
   "metadata": {},
   "source": [
    "Plot the WAVES spectrogram"
   ]
  },
  {
   "cell_type": "code",
   "execution_count": null,
   "id": "65a272aa",
   "metadata": {},
   "outputs": [],
   "source": [
    "waves_spec[0].plot()"
   ]
  },
  {
   "cell_type": "code",
   "execution_count": null,
   "id": "d1e38650",
   "metadata": {},
   "outputs": [],
   "source": [
    "waves_spec[1].plot()"
   ]
  },
  {
   "cell_type": "markdown",
   "id": "be8bef15",
   "metadata": {},
   "source": [
    "### Waves data looks like it captured a burst lets make a nicer figure"
   ]
  },
  {
   "cell_type": "code",
   "execution_count": null,
   "id": "7f115fcf",
   "metadata": {},
   "outputs": [],
   "source": [
    "fig, axes = plt.subplots(2, 1, sharex=True)\n",
    "\n",
    "waves_spec[0].plot(axes=axes[0])\n",
    "waves_spec[1].plot(axes=axes[1])"
   ]
  },
  {
   "cell_type": "code",
   "execution_count": null,
   "id": "92c40a09",
   "metadata": {},
   "outputs": [],
   "source": [
    "fig, axes = plt.subplots(2, 1, sharex=True)\n",
    "\n",
    "waves_spec[0].plot(axes=axes[0])\n",
    "waves_spec[1].plot(axes=axes[1])\n",
    "\n",
    "# by default y-axis low to hight flip so moving away fro sun with time\n",
    "axes[0].set_ylim(reversed(axes[0].get_ylim()))\n",
    "axes[1].set_ylim(reversed(axes[1].get_ylim()))\n"
   ]
  },
  {
   "cell_type": "code",
   "execution_count": null,
   "id": "f4500cef",
   "metadata": {},
   "outputs": [],
   "source": [
    "fig, axes = plt.subplots(2, 1, sharex=True)\n",
    "\n",
    "waves_spec[0].plot(axes=axes[0])\n",
    "waves_spec[1].plot(axes=axes[1])\n",
    "\n",
    "# by default y-axis low to hight flip so moving away fro sun with time\n",
    "axes[0].set_ylim(reversed(axes[0].get_ylim()))\n",
    "axes[1].set_ylim(reversed(axes[1].get_ylim()))\n",
    "\n",
    "# log y-axis\n",
    "axes[0].set_yscale('log')\n",
    "axes[1].set_yscale('log')"
   ]
  },
  {
   "cell_type": "code",
   "execution_count": null,
   "id": "8342695e",
   "metadata": {},
   "outputs": [],
   "source": [
    "from datetime import datetime\n",
    "\n",
    "fig, axes = plt.subplots(2, 1, sharex=True)\n",
    "\n",
    "waves_spec[0].plot(axes=axes[0])\n",
    "waves_spec[1].plot(axes=axes[1])\n",
    "\n",
    "# by default y-axis low to hight flip so moving away fro sun with time\n",
    "axes[0].set_ylim(reversed(axes[0].get_ylim()))\n",
    "axes[1].set_ylim(reversed(axes[1].get_ylim()))\n",
    "\n",
    "# log y-axis\n",
    "axes[0].set_yscale('log')\n",
    "axes[1].set_yscale('log')\n",
    "\n",
    "axes[1].set_xlim(datetime(2017, 9, 2, 15), datetime(2017, 9, 2, 18))"
   ]
  },
  {
   "cell_type": "markdown",
   "id": "627d8073",
   "metadata": {},
   "source": [
    "# Find some callisto data?\n",
    "* http://soleil.i4ds.ch/solarradio/callistoQuicklooks/?date=20170902\n",
    "* Glasgow data looks good, what about others, Greenland?"
   ]
  },
  {
   "cell_type": "code",
   "execution_count": null,
   "id": "cc97495c",
   "metadata": {},
   "outputs": [],
   "source": [
    "index = ((query['CALLISTO']['Observatory'] == 'GREENLAND') \n",
    "         & (query['CALLISTO']['ID'] == 62))\n",
    "\n",
    "# Glasgow is also intersting\n",
    "# index = ((query['CALLISTO']['Observatory'] == 'GLASGOW') \n",
    "\n",
    "query['CALLISTO'][index]"
   ]
  },
  {
   "cell_type": "code",
   "execution_count": null,
   "id": "fe060471",
   "metadata": {},
   "outputs": [],
   "source": [
    "callisto_files = Fido.fetch(query['CALLISTO'][index], max_conn=1)\n",
    "callisto_files = Fido.fetch(callisto_files)"
   ]
  },
  {
   "cell_type": "code",
   "execution_count": null,
   "id": "859c7c7d",
   "metadata": {},
   "outputs": [],
   "source": [
    "callisto_specs = Spectrogram(sorted(callisto_files), silence_errors=True)\n",
    "\n",
    "callisto_specs"
   ]
  },
  {
   "cell_type": "code",
   "execution_count": null,
   "id": "0aa740b7",
   "metadata": {},
   "outputs": [],
   "source": [
    "fig, axes = plt.subplots()\n",
    "[sp.plot(axes=axes) for sp in callisto_specs]\n",
    "# order not guarnteed so need to set plot range \n",
    "axes.set_xlim(datetime(2017, 9, 2, 15, 25), datetime(2017, 9, 2, 18, 10))"
   ]
  },
  {
   "cell_type": "code",
   "execution_count": null,
   "id": "aa118cc4",
   "metadata": {},
   "outputs": [],
   "source": []
  },
  {
   "cell_type": "markdown",
   "id": "cef0846e",
   "metadata": {},
   "source": [
    "# Load data not supported by Spectrogram"
   ]
  },
  {
   "cell_type": "code",
   "execution_count": null,
   "id": "2f81e072",
   "metadata": {},
   "outputs": [],
   "source": [
    "data = np.zeros((200, 200))\n",
    "data[50:150, 50:150] = 1\n",
    "times = Time('2017-09-02 15:00') + np.arange(200) * u.s\n",
    "freqs = np.linspace(10, 20, 200) * u.GHz\n",
    "\n",
    "# expects at least the following meta data\n",
    "meta = {\n",
    "    'observatory': 'some place',\n",
    "    'instrument': 'an instrument',\n",
    "    'detector': 'the detector',\n",
    "    'freqs': freqs,\n",
    "    'times': times,\n",
    "    'wavelength': a.Wavelength(freqs[0], freqs[-1]),\n",
    "    'start_time': times[0],\n",
    "    'end_time': times[-1]\n",
    "}\n",
    "super_spec = Spectrogram(data, meta )"
   ]
  },
  {
   "cell_type": "code",
   "execution_count": null,
   "id": "39a0cf61",
   "metadata": {},
   "outputs": [],
   "source": [
    "super_spec"
   ]
  },
  {
   "cell_type": "code",
   "execution_count": null,
   "id": "41c4dcb1",
   "metadata": {},
   "outputs": [],
   "source": [
    "super_spec.plot()"
   ]
  },
  {
   "cell_type": "markdown",
   "id": "06ef7759",
   "metadata": {},
   "source": [
    "# Use the Orfees web site to find and dowload data\n",
    "* Download data to you local machine\n",
    "* https://rsdb.obs-nancay.fr/"
   ]
  },
  {
   "cell_type": "code",
   "execution_count": null,
   "id": "3183e076",
   "metadata": {},
   "outputs": [],
   "source": [
    "orfees = fits.open('https://drive.google.com/uc?export=download&id=1vcRra0MAUzEbjphwXK8hBFiP8QM7wNOV')\n",
    "# orfees = fits.open(<path goes here>)\n",
    "orfees"
   ]
  },
  {
   "cell_type": "code",
   "execution_count": null,
   "id": "edce53ad",
   "metadata": {},
   "outputs": [],
   "source": [
    "orfees_i = np.hstack([orfees[2].data[f'STOKESI_B{i}'] for i in range(1, 6)]).T\n",
    "orfees_v = np.hstack([orfees[2].data[f'STOKESV_B{i}'] for i in range(1, 6)]).T\n",
    "\n",
    "orfees_time_str = orfees[0].header['DATE-OBS']\n",
    "\n",
    "orfees_times = Time(orfees_time_str) + (orfees[2].data['TIME_B1']/1000)*u.s # times are not the same for all sub spectra!\n",
    "orfees_freqs = np.hstack([orfees[1].data[f'FREQ_B{i}'] for i in range(1, 6)]) *u.MHz"
   ]
  },
  {
   "cell_type": "code",
   "execution_count": null,
   "id": "0d83dde0",
   "metadata": {},
   "outputs": [],
   "source": [
    "orfees_meta = {\n",
    "    'observatory': orfees[0].header['ORIGIN'],\n",
    "    'instrument': orfees[0].header['INSTRUME'],\n",
    "    'detector': orfees[0].header['INSTRUME'],\n",
    "    'freqs': orfees_freqs.reshape(-1),\n",
    "    'times': orfees_times,\n",
    "    'wavelength': a.Wavelength(orfees_freqs[0,0], orfees_freqs[0,-1]),\n",
    "    'start_time': orfees_times[0],\n",
    "    'end_time': orfees_times[-1]\n",
    "}\n",
    "orfees_spec_i = Spectrogram(orfees_i, orfees_meta)\n",
    "orfees_spec_v = Spectrogram(orfees_v, orfees_meta)\n",
    "orfees_spec_i"
   ]
  },
  {
   "cell_type": "code",
   "execution_count": null,
   "id": "8c156c5b",
   "metadata": {},
   "outputs": [],
   "source": [
    "vmm = np.percentile(orfees_spec_i.data, [1,99])\n",
    "orfees_spec_i.plot(norm=LogNorm(vmin=vmm[0], vmax=vmm[1]))\n"
   ]
  },
  {
   "cell_type": "code",
   "execution_count": null,
   "id": "7d78094b",
   "metadata": {},
   "outputs": [],
   "source": [
    "vmm = np.percentile(orfees_spec_v.data, [1,99])\n",
    "orfees_spec_v.plot(vmin=vmm[0], vmax=vmm[1])\n",
    "plt.semilogy()\n",
    "plt.ylim(plt.ylim()[::-1])"
   ]
  },
  {
   "cell_type": "markdown",
   "id": "80be9f6b",
   "metadata": {},
   "source": [
    "# Final combined plot 1 GHz to 1 kHz"
   ]
  },
  {
   "cell_type": "code",
   "execution_count": null,
   "id": "d994c222",
   "metadata": {},
   "outputs": [],
   "source": [
    "from datetime import datetime\n",
    "from matplotlib.colors import LogNorm\n",
    "\n",
    "# set up the plots 4 rows 1 column with shared common x-axis\n",
    "fig, axes = plt.subplots(4, 1, sharex=True, figsize=(12, 12), dpi=100)\n",
    "\n",
    "waves_spec[0].plot(axes=axes[0], norm=LogNorm())\n",
    "waves_spec[1].plot(axes=axes[1], norm=LogNorm())\n",
    "\n",
    "[sp.plot(axes=axes[2]) for sp in callisto_specs]\n",
    "\n",
    "vmm = np.percentile(orfees_spec_i.data, [1,99])\n",
    "orfees_spec_i.plot(axes=axes[3], vmin=vmm[0], vmax=vmm[1])\n",
    "\n",
    "# by default y-axis low to high flip so moving away from sun with time\n",
    "[axes[i].set_ylim(reversed(axes[i].get_ylim())) for i in range(4)]\n",
    "\n",
    "# log y-axis\n",
    "[axes[i].set_yscale('log') for i in range(4)]\n",
    "\n",
    "# reduce time range\n",
    "axes[1].set_xlim(datetime(2017, 9, 2, 15, 0), datetime(2017, 9, 2, 17, 30))"
   ]
  },
  {
   "cell_type": "code",
   "execution_count": null,
   "id": "88d44a35",
   "metadata": {},
   "outputs": [],
   "source": []
  }
 ],
 "metadata": {
  "kernelspec": {
   "display_name": "Python 3 (ipykernel)",
   "language": "python",
   "name": "python3"
  },
  "language_info": {
   "codemirror_mode": {
    "name": "ipython",
    "version": 3
   },
   "file_extension": ".py",
   "mimetype": "text/x-python",
   "name": "python",
   "nbconvert_exporter": "python",
   "pygments_lexer": "ipython3",
   "version": "3.9.6"
  }
 },
 "nbformat": 4,
 "nbformat_minor": 5
}
