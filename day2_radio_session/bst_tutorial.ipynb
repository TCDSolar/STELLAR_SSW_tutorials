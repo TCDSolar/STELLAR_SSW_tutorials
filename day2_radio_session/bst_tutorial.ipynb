{
 "cells": [
  {
   "cell_type": "markdown",
   "metadata": {},
   "source": [
    "## Task 1 Downloading and reading data"
   ]
  },
  {
   "cell_type": "markdown",
   "metadata": {},
   "source": [
    "The first step in analysing any unfamiliar data is to read it into memory and find out some information about its structure.\n",
    "We will download a mode 357 bst file and then complete/answer the following:\n",
    "* Read BST file it into memory. (Hint, `numpy` makes things easy)\n",
    "* How many data points are there?\n",
    "* What is the bitmode? i.e. How do the number of data points compare to the file size?\n",
    "* How many subbands were observed? (Hint, need to know bitmode of observation)\n",
    "* How long was the observation?\n",
    "\n"
   ]
  },
  {
   "cell_type": "code",
   "execution_count": null,
   "metadata": {},
   "outputs": [],
   "source": [
    "import os\n",
    "\n",
    "import astropy.units as u\n",
    "import matplotlib.pyplot as plt\n",
    "import numpy as np\n",
    "\n",
    "from astropy.time import Time, TimeDelta\n",
    "from matplotlib import dates\n",
    "\n",
    "\n",
    "%matplotlib notebook\n",
    "!wget https://data.lofar.ie/2017/09/02/bst/kbt/rcu357_1beam/20170902_103626_bst_00X.dat -P ./data\n",
    "\n",
    "#Read in data\n",
    "#bstfile357 = \"./data/20170902_103626_bst_00X.dat\"\n",
    "#data = np.fromfile(...)\n",
    "#os.path.getsize(...)"
   ]
  },
  {
   "cell_type": "markdown",
   "metadata": {},
   "source": [
    "## Task 2 Reshaping data"
   ]
  },
  {
   "cell_type": "markdown",
   "metadata": {},
   "source": [
    "BST data is 2 dimensional, time and frequency. Using what we learned above reshape the data so that it is a 2D array with time on one axis and frequency on another."
   ]
  },
  {
   "cell_type": "code",
   "execution_count": null,
   "metadata": {},
   "outputs": [],
   "source": [
    "#Reshape data\n",
    "#data = data.reshape(time,frequency)"
   ]
  },
  {
   "cell_type": "markdown",
   "metadata": {},
   "source": [
    "## Task 3 Quick plot"
   ]
  },
  {
   "cell_type": "markdown",
   "metadata": {},
   "source": [
    "We now have everything we need to make a quick plot of our data.\n",
    "\n",
    "* Use `matplotlib` to produce a dynamic spectrum. Make sure to have time on the x-axis.\n",
    "* What \"mode\" was this observation made in? (Hint, log your data)\n",
    "* Play around with vmin and vmax.\n",
    "* Do all subbands contain data? If not, how many empty subbands are there?"
   ]
  },
  {
   "cell_type": "code",
   "execution_count": null,
   "metadata": {},
   "outputs": [],
   "source": [
    "#plt.imshow(...)"
   ]
  },
  {
   "cell_type": "markdown",
   "metadata": {},
   "source": [
    "## Task 4 Updating axes"
   ]
  },
  {
   "cell_type": "markdown",
   "metadata": {},
   "source": [
    "Let's convert subband number to frequency and include the actual time for our axes.\n",
    "\n",
    "Remember the conversion from subband number to frequency from earlier\n",
    "\n",
    "$$\\nu = (n-1+ \\frac{s}{512})\\frac{\\nu_{clock}}{2},$$\n",
    "\n",
    "where $n$ is the nyquist zone, $s$ is the subband number and $\\nu_{clock}$ is the clock frequency.\n",
    "\n",
    "In this example $\\nu_{clock} = 200$ MHz.\n",
    "\n",
    "* Write a function to convert subband number to frequency.\n",
    "* Using the timestamp in the BST file name, create an array of datetime objects for the time array.\n",
    "* Replot the data with the correct frequency and time axis."
   ]
  },
  {
   "cell_type": "markdown",
   "metadata": {},
   "source": [
    "\n",
    "Remember that the subbands in mode 357 are not sequential and are in different \"Nyquist Zones\"\n",
    "\n",
    "|     Mode     |         3        |         5        |         7        |\n",
    "|:------------:|:----------------:|:----------------:|:----------------:|\n",
    "|   Subbands   | 54, 56, 58...452 | 54, 56, 58...452 | 54, 56, 58...228 |\n",
    "| Nyquist Zone |         1        |         2        |         3        |\n",
    "\n",
    "The following code block will create an appropriate frequency array for mode 357 data"
   ]
  },
  {
   "cell_type": "code",
   "execution_count": null,
   "metadata": {},
   "outputs": [],
   "source": [
    "# def sb_to_freq(subband, observation mode):\n",
    "#     \"\"\"\n",
    "#     Converts LOFAR single station subbands to frequency\n",
    "#     Returns frequency\n",
    "#     Inputs: subband number, observation mode (3, 5 or 7)\n",
    "#     \"\"\"\n",
    "#     return frequency\n"
   ]
  },
  {
   "cell_type": "code",
   "execution_count": null,
   "metadata": {},
   "outputs": [],
   "source": [
    "sbs = np.array((np.arange(54,454,2),\n",
    "                np.arange(54,454,2),\n",
    "                np.arange(54,230,2)),\n",
    "                dtype=object) #subbands observed in mode 357\n",
    "blank_sbs = np.array((np.arange(454,512,2),\n",
    "                      np.arange(0,54,2),\n",
    "                      np.arange(454,512,2),\n",
    "                      np.arange(0,54,2)),\n",
    "                      dtype=object) #gaps between modes\n",
    "obs_mode = np.array((3,5,7))\n",
    "blank_obs_mode = np.array((3,5,5,7))\n",
    "\n",
    "\n",
    "freqs = np.array([sb_to_freq(sb,mode) for sb,mode in zip(sbs, obs_mode)], dtype=object)\n",
    "blank_freqs = np.array([sb_to_freq(sb,mode) for sb,mode in zip(blank_sbs, blank_obs_mode)], dtype=object)\n",
    "\n",
    "sbs=np.concatenate((sbs[0], blank_sbs[0], blank_sbs[1], sbs[1],\n",
    "                            blank_sbs[2], blank_sbs[3], sbs[2]))\n",
    "\n",
    "freqs=np.concatenate((freqs[0], blank_freqs[0], blank_freqs[1], freqs[1],\n",
    "                            blank_freqs[2], blank_freqs[3], freqs[2]))\n",
    "\n",
    "\n",
    "blank_data = np.zeros((freqs.shape[0],data357.shape[1]))\n",
    "#1st 200 sbs mode 3, blank, next 200 sbs mode 5, blank, last 88 sbs mode 7\n",
    "blank_data[:200,:] = data357[:200,:]\n",
    "blank_len_0 = len(blank_freqs[0]) + len(blank_freqs[1])\n",
    "blank_data[200 + blank_len_0:400 + blank_len_0,:] = data357[200:400,:]\n",
    "blank_len_1 = len(blank_freqs[2]) + len(blank_freqs[3])\n",
    "blank_data[400 + blank_len_0 + blank_len_1 :,:] = data357[400:,:]\n",
    "data357 = blank_data\n",
    "\n",
    "mask = np.zeros(data357.shape)\n",
    "mask[200:256,:] = 1\t#1st 200 sbs are mode 3, 56 blank sbs\n",
    "mask[456:512,:] = 1 #Next 200 sbs are mode 5, 56 blank sbs. Last 88 sbs are mode 7\n",
    "data357 = np.ma.array(data357, mask=mask)"
   ]
  },
  {
   "cell_type": "markdown",
   "metadata": {},
   "source": [
    "## Task 5 Remove background"
   ]
  },
  {
   "cell_type": "markdown",
   "metadata": {},
   "source": [
    "How would you remove the effect of the antenna bandpass filter?\n"
   ]
  },
  {
   "cell_type": "code",
   "execution_count": null,
   "metadata": {},
   "outputs": [],
   "source": []
  },
  {
   "cell_type": "markdown",
   "metadata": {},
   "source": [
    "## Task 6 Make a radiospectra spectrogram object"
   ]
  },
  {
   "cell_type": "markdown",
   "metadata": {},
   "source": [
    "We've seen how easy it is to plot things using radiospectra in previous tutorials but how can we get it to work with I-LOFAR data?"
   ]
  },
  {
   "cell_type": "code",
   "execution_count": null,
   "metadata": {},
   "outputs": [],
   "source": [
    "from radiospectra.spectrogram2 import Spectrogram\n",
    "from sunpy.net import attrs as a\n",
    "\n",
    "ilofar_meta = {\n",
    "    'observatory': 'I-LOFAR',\n",
    "    'instrument': 'I-LOFAR',\n",
    "    'detector': 'Mode 357',\n",
    "    'freqs': frequency_array,\n",
    "    'times': time_array,\n",
    "    'wavelength': a.Wavelength(frequency_array[0], frequency_array[-1]),\n",
    "    'start_time': time_array[0],\n",
    "    'end_time': time_array[-1]\n",
    "}\n",
    "ilofar_spec = Spectrogram(data357, ilofar_meta)"
   ]
  },
  {
   "cell_type": "markdown",
   "metadata": {},
   "source": [
    "## Task 7 finding times and frequencies of a Type II burst"
   ]
  },
  {
   "cell_type": "markdown",
   "metadata": {},
   "source": [
    "Notice the Type II burst at ~15:30 UTC in the frequency range of 10-90 MHz. We want to zoom in on this burst and determine 10 points along the fundamental band. Try plotting a zoom in of the burst and use the code block below to save the time and frequencies of each point you click on.\n",
    "(Hint, try create a new radiospectra Spectrogram with the zoomed in data, the plots update quicker)"
   ]
  },
  {
   "cell_type": "code",
   "execution_count": null,
   "metadata": {},
   "outputs": [],
   "source": [
    "def onclick(event):\n",
    "    global ix\n",
    "    ix= event.xdata\n",
    "    global iy\n",
    "    iy=event.ydata\n",
    "    global x_coords\n",
    "    x_coords.append(ix)\n",
    "    global y_coords\n",
    "    y_coords.append(iy)\n",
    "    plt.plot(ix, iy, 'o', color='r')\n",
    "    fig.canvas.draw()\n",
    "    # Disconnect after 10 clicks\n",
    "    if len(x_coords) == 10:\n",
    "        fig.canvas.mpl_disconnect(cid)\n",
    "\n",
    "    return\n",
    "# find time/frequency to zoom in to e.g. 15:30:00 - 16:30:00 UTC, 10 - 90 MHz\n",
    "# fig, ax = plt.subplots(figsize=(9,8))\n",
    "# lofar_zoom_spec.plot()\n",
    "# x_coords=[]\n",
    "# y_coords=[]\n",
    "# cid = fig.canvas.mpl_connect('button_press_event', onclick)\n"
   ]
  }
 ],
 "metadata": {
  "kernelspec": {
   "display_name": "ilofar",
   "language": "python",
   "name": "ilofar"
  },
  "language_info": {
   "codemirror_mode": {
    "name": "ipython",
    "version": 3
   },
   "file_extension": ".py",
   "mimetype": "text/x-python",
   "name": "python",
   "nbconvert_exporter": "python",
   "pygments_lexer": "ipython3",
   "version": "3.9.6"
  }
 },
 "nbformat": 4,
 "nbformat_minor": 2
}
